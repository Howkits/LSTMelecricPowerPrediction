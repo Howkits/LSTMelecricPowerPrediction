{
 "cells": [
  {
   "cell_type": "code",
   "execution_count": 1,
   "id": "cb684666",
   "metadata": {},
   "outputs": [],
   "source": [
    "import numpy as np\n",
    "import pandas as pd\n"
   ]
  },
  {
   "cell_type": "markdown",
   "id": "ca6dd2ea",
   "metadata": {},
   "source": [
    "测试numpy"
   ]
  },
  {
   "cell_type": "code",
   "execution_count": 3,
   "id": "acbb1430",
   "metadata": {},
   "outputs": [
    {
     "name": "stdout",
     "output_type": "stream",
     "text": [
      "[1 2 3 4 5]\n",
      "(5,)\n"
     ]
    }
   ],
   "source": [
    "arr = np.array([1, 2, 3, 4, 5])\n",
    "print(arr)\n",
    "print(arr.shape)\n"
   ]
  },
  {
   "cell_type": "code",
   "execution_count": 5,
   "id": "830895d0",
   "metadata": {},
   "outputs": [
    {
     "name": "stdout",
     "output_type": "stream",
     "text": [
      "数据基本信息：\n",
      "<class 'pandas.core.frame.DataFrame'>\n",
      "RangeIndex: 8760 entries, 0 to 8759\n",
      "Data columns (total 3 columns):\n",
      " #   Column    Non-Null Count  Dtype  \n",
      "---  ------    --------------  -----  \n",
      " 0   小时        8760 non-null   int64  \n",
      " 1   电力需求（MW）  8760 non-null   float64\n",
      " 2   热力需求（MW）  8760 non-null   float64\n",
      "dtypes: float64(2), int64(1)\n",
      "memory usage: 205.4 KB\n",
      "数据前几行信息：\n",
      "\t小时\t电力需求（MW）\t热力需求（MW）\n",
      "0\t1\t956.97188\t928.8\n",
      "1\t2\t912.30188\t972.0\n",
      "2\t3\t900.470884\t1004.4\n",
      "3\t4\t895.360884\t1023.84\n",
      "4\t5\t891.410884\t1067.04\n",
      "\n"
     ]
    }
   ],
   "source": [
    "# 读取 XLSX 文件\n",
    "file_path = 'data/data.xlsx'  # 替换为实际的文件路径\n",
    "df = pd.read_excel(file_path)\n",
    "\n",
    "# 打印数据的基本信息\n",
    "print('数据基本信息：')\n",
    "df.info()\n",
    "\n",
    "# 打印数据集行数和列数\n",
    "rows, columns = df.shape\n",
    "\n",
    "if rows > 0:\n",
    "    # 若数据不为空，打印前几行\n",
    "    print('数据前几行信息：')\n",
    "    print(df.head().to_csv(sep='\\t', na_rep='nan'))\n",
    "else:\n",
    "    # 若数据为空，给出提示\n",
    "    print('数据为空')\n"
   ]
  },
  {
   "cell_type": "code",
   "execution_count": 1,
   "id": "0acaf545",
   "metadata": {},
   "outputs": [
    {
     "name": "stdout",
     "output_type": "stream",
     "text": [
      "可用的 GPU 数量: 1\n",
      "当前使用的 GPU 设备: NVIDIA GeForce RTX 5060\n",
      "在 GPU 上创建的张量: tensor([1., 2.], device='cuda:0')\n",
      "张量所在设备: cuda:0\n"
     ]
    }
   ],
   "source": [
    "# 测试pytorch\n",
    "import torch\n",
    "\n",
    "# 检查是否有可用的 GPU\n",
    "if torch.cuda.is_available():\n",
    "    # 获取 GPU 设备数量\n",
    "    gpu_count = torch.cuda.device_count()\n",
    "    print(f\"可用的 GPU 数量: {gpu_count}\")\n",
    "    # 获取当前默认的 GPU 设备名称\n",
    "    current_device = torch.cuda.current_device()\n",
    "    gpu_name = torch.cuda.get_device_name(current_device)\n",
    "    print(f\"当前使用的 GPU 设备: {gpu_name}\")\n",
    "    \n",
    "    # 在 GPU 上创建一个张量\n",
    "    x = torch.tensor([1.0, 2.0]).cuda()\n",
    "    print(f\"在 GPU 上创建的张量: {x}\")\n",
    "    print(f\"张量所在设备: {x.device}\")\n",
    "else:\n",
    "    print(\"没有可用的 GPU，PyTorch 将使用 CPU 进行计算。\")\n",
    "\n"
   ]
  },
  {
   "cell_type": "code",
   "execution_count": 4,
   "id": "5ba6928e",
   "metadata": {},
   "outputs": [
    {
     "data": {
      "text/plain": [
       "90701"
      ]
     },
     "execution_count": 4,
     "metadata": {},
     "output_type": "execute_result"
    },
    {
     "data": {
      "text/plain": [
       "True"
      ]
     },
     "execution_count": 4,
     "metadata": {},
     "output_type": "execute_result"
    }
   ],
   "source": [
    "torch.backends.cudnn.version()\n",
    "\n",
    "from torch.backends import cudnn\n",
    "cudnn.is_available()"
   ]
  },
  {
   "cell_type": "code",
   "execution_count": null,
   "id": "980e3bfe",
   "metadata": {},
   "outputs": [],
   "source": [
    "a=torch.tensor(1.)\n",
    "cudnn.is_acceptable(a.cuda())"
   ]
  },
  {
   "cell_type": "code",
   "execution_count": 3,
   "id": "cc1fd2c1",
   "metadata": {},
   "outputs": [],
   "source": [
    "from IPython.core.interactiveshell import InteractiveShell\n",
    "InteractiveShell.ast_node_interactivity = \"all\""
   ]
  }
 ],
 "metadata": {
  "kernelspec": {
   "display_name": "Python 3",
   "language": "python",
   "name": "python3"
  },
  "language_info": {
   "codemirror_mode": {
    "name": "ipython",
    "version": 3
   },
   "file_extension": ".py",
   "mimetype": "text/x-python",
   "name": "python",
   "nbconvert_exporter": "python",
   "pygments_lexer": "ipython3",
   "version": "3.13.5"
  }
 },
 "nbformat": 4,
 "nbformat_minor": 5
}
